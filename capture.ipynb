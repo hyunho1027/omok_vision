{
 "cells": [
  {
   "cell_type": "code",
   "execution_count": 13,
   "metadata": {},
   "outputs": [],
   "source": [
    "import cv2\n",
    "import numpy as np\n",
    " \n",
    "# Create a VideoCapture object\n",
    "cap = cv2.VideoCapture(0)\n",
    " \n",
    "# Check if camera opened successfully\n",
    "if (cap.isOpened() == False): \n",
    "    print(\"Unable to read camera feed\")\n",
    "\n",
    "# pts1 = np.float32([[220,250],[170, 350],[400,255],[425,350]])\n",
    "\n",
    "# pts2 = np.float32([[10,10],[10,290],[290,10],[290,290]])\n",
    "\n",
    "# M = cv2.getPerspectiveTransform(pts1, pts2)\n",
    "    \n",
    "while(True):\n",
    "    ret, frame = cap.read()\n",
    " \n",
    "    if ret == True: \n",
    "         \n",
    "        cv2.circle(frame, (225,258), 2, (255,0,0),-1)\n",
    "        cv2.circle(frame, (175,345), 2, (255,0,0),-1)\n",
    "        cv2.circle(frame, (403,262), 2, (255,0,0),-1)\n",
    "        cv2.circle(frame, (419,353), 2, (255,0,0),-1)\n",
    "        \n",
    "        gray_frame = cv2.cvtColor(frame, cv2.COLOR_BGR2GRAY)\n",
    "        \n",
    "        #gray_frame = cv2.warpPerspective(gray_frame, M, (300,300))\n",
    "        \n",
    "        \n",
    "        # Display the resulting frame    \n",
    "        cv2.imshow('frame',gray_frame)\n",
    "        \n",
    "        # Press Q on keyboard to stop recording\n",
    "        if cv2.waitKey(1) & 0xFF == ord('q'):\n",
    "            break\n",
    " \n",
    "    # Break the loop\n",
    "    else:\n",
    "        break \n",
    "\n",
    "cap.release()\n",
    "#out.release()\n",
    " \n",
    "# Closes all the frames\n",
    "cv2.destroyAllWindows() "
   ]
  },
  {
   "cell_type": "code",
   "execution_count": null,
   "metadata": {},
   "outputs": [],
   "source": []
  }
 ],
 "metadata": {
  "kernelspec": {
   "display_name": "Python 3",
   "language": "python",
   "name": "python3"
  },
  "language_info": {
   "codemirror_mode": {
    "name": "ipython",
    "version": 3
   },
   "file_extension": ".py",
   "mimetype": "text/x-python",
   "name": "python",
   "nbconvert_exporter": "python",
   "pygments_lexer": "ipython3",
   "version": "3.6.5"
  }
 },
 "nbformat": 4,
 "nbformat_minor": 2
}
